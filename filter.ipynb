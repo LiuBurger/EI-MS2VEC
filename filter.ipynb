{
 "cells": [
  {
   "cell_type": "markdown",
   "metadata": {},
   "source": [
    "##### 过滤步骤：1.先用四大过滤原则对每个数据集过滤 2.ChEMBL用NIST过滤，HMDB和chembl用和NIST过滤"
   ]
  },
  {
   "cell_type": "code",
   "execution_count": 2,
   "metadata": {},
   "outputs": [
    {
     "name": "stdout",
     "output_type": "stream",
     "text": [
      "237108\n",
      "11599\n",
      "11600\n",
      "0\n",
      "0\n",
      "0\n"
     ]
    }
   ],
   "source": [
    "nist_train = open('../data/fastei/nist/train_set_smiles.txt') \n",
    "smiles_train = nist_train.readlines()\n",
    "smiles_train = [smi.strip() for smi in smiles_train]\n",
    "nist_val = open('../data/fastei/nist/validation_set_smiles.txt')\n",
    "smiles_val = nist_val.readlines()\n",
    "smiles_val = [smi.strip() for smi in smiles_val]\n",
    "nist_test = open('../data/fastei/nist/test_set_smiles.txt') \n",
    "smiles_test = nist_test.readlines()\n",
    "smiles_test = [smi.strip() for smi in smiles_test]\n",
    "\n",
    "print(len(smiles_train)) # 237108\n",
    "print(len(smiles_val)) # 11599\n",
    "print(len(smiles_test)) # 11600\n",
    "print(len(set(smiles_train)&set(smiles_test))) \n",
    "print(len(set(smiles_train)&set(smiles_val)))\n",
    "print(len(set(smiles_val)&set(smiles_test)))"
   ]
  },
  {
   "cell_type": "code",
   "execution_count": null,
   "metadata": {},
   "outputs": [],
   "source": [
    "from rdkit import Chem\n",
    "\n",
    "\n",
    "suppl_chem = Chem.SDMolSupplier('../data/fastei/chembl/chembl_28.sdf')\n",
    "mols_chembl = [m for m in suppl_chem if m] # 2066376\n",
    "print(len(mols_chembl)) # \n",
    "chembl_smi = [Chem.MolToSmiles(mol) for mol in mols_chembl] # 2066376\n",
    "print(len(chembl_smi))"
   ]
  },
  {
   "cell_type": "code",
   "execution_count": null,
   "metadata": {},
   "outputs": [],
   "source": [
    "from rdkit import Chem\n",
    "\n",
    "\n",
    "suppl_h = Chem.SDMolSupplier('../data/fastei/hmdb/structures.sdf')\n",
    "hmdb_mols = [mol for mol in suppl_h if mol] \n",
    "print(len(hmdb_mols)) # 217766\n",
    "hmdb_smi = [mol.GetProp('SMILES') for mol in hmdb_mols]\n",
    "print(len(hmdb_smi)) # 217766"
   ]
  },
  {
   "cell_type": "code",
   "execution_count": null,
   "metadata": {},
   "outputs": [],
   "source": [
    "from utils.filter import filter_nist\n",
    "\n",
    "f_mols_n, nist_unq, nist_smi = filter_nist(smiles_train+smiles_val+smiles_test)\n",
    "print(len(nist_smi)) # 255820,4487"
   ]
  },
  {
   "cell_type": "code",
   "execution_count": null,
   "metadata": {},
   "outputs": [],
   "source": [
    "from utils.filter import filter_yq\n",
    "\n",
    "f_chembl, chembl_unq, chembl_qua_smi = filter_yq(chembl_smi)"
   ]
  },
  {
   "cell_type": "code",
   "execution_count": null,
   "metadata": {},
   "outputs": [],
   "source": [
    "from utils.filter import filter_yq\n",
    "\n",
    "f_hmdb, hmdb_unq, hmdb_qua_smi = filter_yq(hmdb_smi)"
   ]
  },
  {
   "cell_type": "code",
   "execution_count": null,
   "metadata": {},
   "outputs": [],
   "source": [
    "f_chembl_mols = []\n",
    "for mol, smi in zip(f_chembl, chembl_qua_smi):\n",
    "    if smi in nist_smi:\n",
    "        continue\n",
    "    else:\n",
    "        f_chembl_mols.append(mol)\n",
    "print(len(f_chembl_mols)) "
   ]
  },
  {
   "cell_type": "code",
   "execution_count": 18,
   "metadata": {},
   "outputs": [
    {
     "name": "stdout",
     "output_type": "stream",
     "text": [
      "118489\n"
     ]
    }
   ],
   "source": [
    "f_hmdb_mols = []\n",
    "for mol, smi in zip(f_hmdb, hmdb_qua_smi):\n",
    "    if smi in nist_smi or smi in chembl_qua_smi:\n",
    "        continue\n",
    "    else:\n",
    "        f_hmdb_mols.append(mol)\n",
    "print(len(f_hmdb_mols)) # 118489"
   ]
  },
  {
   "cell_type": "markdown",
   "metadata": {},
   "source": [
    "##### 过滤完成之后生成sdf文件，之后用NEIMS生成预测谱，然后将intensities归一化"
   ]
  },
  {
   "cell_type": "code",
   "execution_count": null,
   "metadata": {},
   "outputs": [],
   "source": [
    "from rdkit.Chem import AllChem \n",
    "\n",
    "writer = AllChem.SDWriter('../data/fastei/chembl/f_chembl.sdf')\n",
    "for mol in f_chembl_mols:\n",
    "    writer.write(mol)\n",
    "writer.close()"
   ]
  },
  {
   "cell_type": "code",
   "execution_count": 19,
   "metadata": {},
   "outputs": [],
   "source": [
    "from rdkit.Chem import AllChem \n",
    "\n",
    "writer = AllChem.SDWriter('../data/fastei/hmdb/f_hmdb.sdf')\n",
    "for mol in f_hmdb_mols:\n",
    "    writer.write(mol)\n",
    "writer.close()"
   ]
  }
 ],
 "metadata": {
  "kernelspec": {
   "display_name": "Python 3 (ipykernel)",
   "language": "python",
   "name": "python3"
  },
  "language_info": {
   "codemirror_mode": {
    "name": "ipython",
    "version": 3
   },
   "file_extension": ".py",
   "mimetype": "text/x-python",
   "name": "python",
   "nbconvert_exporter": "python",
   "pygments_lexer": "ipython3",
   "version": "3.11.5"
  }
 },
 "nbformat": 4,
 "nbformat_minor": 2
}
