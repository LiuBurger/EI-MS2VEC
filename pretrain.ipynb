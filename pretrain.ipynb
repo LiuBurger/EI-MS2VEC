{
 "cells": [
  {
   "cell_type": "code",
   "execution_count": 1,
   "metadata": {},
   "outputs": [
    {
     "name": "stdout",
     "output_type": "stream",
     "text": [
      "11499\n",
      "2253216\n"
     ]
    }
   ],
   "source": [
    "import torch as pt\n",
    "\n",
    "\n",
    "mols_test = pt.load('./data/mine/test_11499.pt')\n",
    "print(len(mols_test))\n",
    "mols_all = pt.load('./data/mine/mols_all.pt')\n",
    "print(len(mols_all))"
   ]
  },
  {
   "cell_type": "code",
   "execution_count": 2,
   "metadata": {},
   "outputs": [
    {
     "name": "stdout",
     "output_type": "stream",
     "text": [
      "(1000,)\n"
     ]
    }
   ],
   "source": [
    "# 统计词频\n",
    "import numpy as np\n",
    "\n",
    "\n",
    "mols_train = mols_all[:232826]\n",
    "count_list = np.zeros(1000)\n",
    "for mol in mols_train:\n",
    "    tmp_list = np.zeros(1000)\n",
    "    for mz in mol.mz:\n",
    "        tmp_list[int(mz)] = 1\n",
    "    count_list += tmp_list\n",
    "\n",
    "count_list += 1  \n",
    "print(count_list.shape)"
   ]
  },
  {
   "cell_type": "code",
   "execution_count": 3,
   "metadata": {},
   "outputs": [
    {
     "data": {
      "image/png": "[encoded data removed]",
      "text/plain": [
       "<Figure size 640x480 with 1 Axes>"
      ]
     },
     "metadata": {},
     "output_type": "display_data"
    }
   ],
   "source": [
    "import matplotlib.pyplot as plt\n",
    "from matplotlib.ticker import FuncFormatter\n",
    "\n",
    "fig = plt.figure()\n",
    "ax = fig.add_subplot()\n",
    "ax.bar(np.arange(1000), count_list)\n",
    "ax.set_xlabel('m/z', loc='right')\n",
    "ax.set_ylabel('count', loc='top')\n",
    "# ax.legend()\n",
    "def formatter(x, pos):\n",
    "    return f'{int(x/1000)} k'\n",
    "plt.gca().yaxis.set_major_formatter(FuncFormatter(formatter))\n",
    "# fig.savefig('count_bar.svg', format='svg', dpi=500)"
   ]
  },
  {
   "cell_type": "code",
   "execution_count": 4,
   "metadata": {},
   "outputs": [
    {
     "name": "stdout",
     "output_type": "stream",
     "text": [
      "(1000,)\n"
     ]
    }
   ],
   "source": [
    "import numpy as np\n",
    "\n",
    "\n",
    "# 生成负采样概率\n",
    "pow_frequency = np.array(count_list) ** 0.75\n",
    "neg_prob = pow_frequency / pow_frequency.sum()\n",
    "print(neg_prob.shape)\n",
    "# 生成下采样概率\n",
    "mzs_freq = np.array(count_list)\n",
    "mzs_freq = mzs_freq / np.sum(mzs_freq)\n",
    "t = 1e-3\n",
    "keep_prob = np.array([np.sqrt(t/f) + t/f for f in mzs_freq])"
   ]
  },
  {
   "cell_type": "code",
   "execution_count": 5,
   "metadata": {},
   "outputs": [],
   "source": [
    "from torch.utils.data import DataLoader\n",
    "from utils.data import SpecDataset, collate_fun, collate_fun_emb\n",
    "import numpy as np\n",
    "\n",
    "\n",
    "dataset_lib = SpecDataset(mols_all)\n",
    "dataset_test = SpecDataset(mols_test)\n",
    "loader_lib = DataLoader(dataset_lib, batch_size=2048, shuffle=False,\n",
    "                        num_workers=8, collate_fn=collate_fun_emb)\n",
    "loader_test = DataLoader(dataset_test, batch_size=2048, shuffle=False,\n",
    "                        num_workers=8, collate_fn=collate_fun_emb)\n",
    "dataset_train = SpecDataset(dataset_lib, mapping=np.arange(232826))\n",
    "loader_train = DataLoader(dataset_train, batch_size=32, shuffle=True, \n",
    "                            num_workers=8, collate_fn=collate_fun(keep_prob, neg_prob))\n",
    "num_batches = len(loader_train)"
   ]
  },
  {
   "cell_type": "code",
   "execution_count": 6,
   "metadata": {},
   "outputs": [],
   "source": [
    "import torch.optim as optim\n",
    "from utils.model import Spec2Emb, Linear_Scheduler\n",
    "\n",
    "\n",
    "gpu = 8\n",
    "model = Spec2Emb().to(gpu)\n",
    "\n",
    "epochs = 10\n",
    "lr = 0.025\n",
    "optimizer = optim.SGD(model.parameters(), lr=lr)\n",
    "scheduler = Linear_Scheduler(optimizer, epochs, start_lr=lr, end_lr=2.5e-4)"
   ]
  },
  {
   "cell_type": "code",
   "execution_count": 7,
   "metadata": {},
   "outputs": [
    {
     "name": "stdout",
     "output_type": "stream",
     "text": [
      "==================================Train_epoch1======================================\n"
     ]
    },
    {
     "name": "stderr",
     "output_type": "stream",
     "text": [
      " 14%|█▍        | 1007/7276 [00:21<01:45, 59.18batch/s]"
     ]
    },
    {
     "name": "stdout",
     "output_type": "stream",
     "text": [
      "Total Loss: 6089.370430419922\n"
     ]
    },
    {
     "name": "stderr",
     "output_type": "stream",
     "text": [
      " 28%|██▊       | 2008/7276 [00:39<01:30, 58.26batch/s]"
     ]
    },
    {
     "name": "stdout",
     "output_type": "stream",
     "text": [
      "Total Loss: 5103.969547851562\n"
     ]
    },
    {
     "name": "stderr",
     "output_type": "stream",
     "text": [
      " 41%|████▏     | 3005/7276 [00:56<01:10, 60.45batch/s]"
     ]
    },
    {
     "name": "stdout",
     "output_type": "stream",
     "text": [
      "Total Loss: 4957.171198974609\n"
     ]
    },
    {
     "name": "stderr",
     "output_type": "stream",
     "text": [
      " 55%|█████▌    | 4007/7276 [01:14<00:56, 57.93batch/s]"
     ]
    },
    {
     "name": "stdout",
     "output_type": "stream",
     "text": [
      "Total Loss: 4844.542383056641\n"
     ]
    },
    {
     "name": "stderr",
     "output_type": "stream",
     "text": [
      " 69%|██████▉   | 5010/7276 [01:32<00:44, 51.25batch/s]"
     ]
    },
    {
     "name": "stdout",
     "output_type": "stream",
     "text": [
      "Total Loss: 4747.507932617187\n"
     ]
    },
    {
     "name": "stderr",
     "output_type": "stream",
     "text": [
      " 83%|████████▎ | 6006/7276 [01:49<00:21, 59.79batch/s]"
     ]
    },
    {
     "name": "stdout",
     "output_type": "stream",
     "text": [
      "Total Loss: 4747.070338867187\n"
     ]
    },
    {
     "name": "stderr",
     "output_type": "stream",
     "text": [
      " 96%|█████████▋| 7011/7276 [02:06<00:04, 56.19batch/s]"
     ]
    },
    {
     "name": "stdout",
     "output_type": "stream",
     "text": [
      "Total Loss: 4665.448889404297\n"
     ]
    },
    {
     "name": "stderr",
     "output_type": "stream",
     "text": [
      "100%|██████████| 7276/7276 [02:12<00:00, 55.00batch/s]"
     ]
    },
    {
     "name": "stdout",
     "output_type": "stream",
     "text": [
      "===================================Test_epoch1======================================\n"
     ]
    },
    {
     "name": "stderr",
     "output_type": "stream",
     "text": [
      "\n"
     ]
    },
    {
     "name": "stdout",
     "output_type": "stream",
     "text": [
      "Searching time:  0:00:01.621589\n",
      "Expanded library\n",
      "Top1 hit rate: 15.55%\n",
      "Top10 hit rate: 46.84%\n",
      "Searching time:  0:00:01.525611\n",
      "In-silico library\n",
      "Top1 hit rate: 15.76%\n",
      "Top10 hit rate: 47.19%\n",
      "================================================================================================\n",
      "==================================Train_epoch2======================================\n"
     ]
    },
    {
     "name": "stderr",
     "output_type": "stream",
     "text": [
      " 14%|█▍        | 1008/7276 [00:22<01:56, 53.59batch/s]"
     ]
    },
    {
     "name": "stdout",
     "output_type": "stream",
     "text": [
      "Total Loss: 4678.184623535156\n"
     ]
    },
    {
     "name": "stderr",
     "output_type": "stream",
     "text": [
      " 28%|██▊       | 2006/7276 [00:39<01:39, 52.94batch/s]"
     ]
    },
    {
     "name": "stdout",
     "output_type": "stream",
     "text": [
      "Total Loss: 4630.853333251953\n"
     ]
    },
    {
     "name": "stderr",
     "output_type": "stream",
     "text": [
      " 41%|████▏     | 3010/7276 [00:57<01:14, 57.62batch/s]"
     ]
    },
    {
     "name": "stdout",
     "output_type": "stream",
     "text": [
      "Total Loss: 4628.0421806640625\n"
     ]
    },
    {
     "name": "stderr",
     "output_type": "stream",
     "text": [
      " 55%|█████▌    | 4007/7276 [01:15<00:55, 59.21batch/s]"
     ]
    },
    {
     "name": "stdout",
     "output_type": "stream",
     "text": [
      "Total Loss: 4582.800409667969\n"
     ]
    },
    {
     "name": "stderr",
     "output_type": "stream",
     "text": [
      " 69%|██████▉   | 5010/7276 [01:32<00:38, 59.05batch/s]"
     ]
    },
    {
     "name": "stdout",
     "output_type": "stream",
     "text": [
      "Total Loss: 4592.596938720703\n"
     ]
    },
    {
     "name": "stderr",
     "output_type": "stream",
     "text": [
      " 83%|████████▎ | 6006/7276 [01:49<00:20, 63.40batch/s]"
     ]
    },
    {
     "name": "stdout",
     "output_type": "stream",
     "text": [
      "Total Loss: 4568.669753173828\n"
     ]
    },
    {
     "name": "stderr",
     "output_type": "stream",
     "text": [
      " 96%|█████████▋| 7011/7276 [02:07<00:04, 64.43batch/s]"
     ]
    },
    {
     "name": "stdout",
     "output_type": "stream",
     "text": [
      "Total Loss: 4593.734506103516\n"
     ]
    },
    {
     "name": "stderr",
     "output_type": "stream",
     "text": [
      "100%|██████████| 7276/7276 [02:13<00:00, 54.57batch/s]"
     ]
    },
    {
     "name": "stdout",
     "output_type": "stream",
     "text": [
      "===================================Test_epoch2======================================\n"
     ]
    },
    {
     "name": "stderr",
     "output_type": "stream",
     "text": [
      "\n"
     ]
    },
    {
     "name": "stdout",
     "output_type": "stream",
     "text": [
      "Searching time:  0:00:01.594851\n",
      "Expanded library\n",
      "Top1 hit rate: 15.63%\n",
      "Top10 hit rate: 47.46%\n",
      "Searching time:  0:00:01.515233\n",
      "In-silico library\n",
      "Top1 hit rate: 15.84%\n",
      "Top10 hit rate: 47.76%\n",
      "================================================================================================\n",
      "==================================Train_epoch3======================================\n"
     ]
    },
    {
     "name": "stderr",
     "output_type": "stream",
     "text": [
      " 14%|█▍        | 1009/7276 [00:20<01:48, 57.64batch/s]"
     ]
    },
    {
     "name": "stdout",
     "output_type": "stream",
     "text": [
      "Total Loss: 4556.576239257813\n"
     ]
    },
    {
     "name": "stderr",
     "output_type": "stream",
     "text": [
      " 28%|██▊       | 2010/7276 [00:38<01:29, 58.99batch/s]"
     ]
    },
    {
     "name": "stdout",
     "output_type": "stream",
     "text": [
      "Total Loss: 4537.927028564453\n"
     ]
    },
    {
     "name": "stderr",
     "output_type": "stream",
     "text": [
      " 41%|████▏     | 3008/7276 [00:58<01:27, 48.84batch/s]"
     ]
    },
    {
     "name": "stdout",
     "output_type": "stream",
     "text": [
      "Total Loss: 4531.810795654297\n"
     ]
    },
    {
     "name": "stderr",
     "output_type": "stream",
     "text": [
      " 55%|█████▌    | 4008/7276 [01:19<00:55, 58.51batch/s]"
     ]
    },
    {
     "name": "stdout",
     "output_type": "stream",
     "text": [
      "Total Loss: 4545.492762207031\n"
     ]
    },
    {
     "name": "stderr",
     "output_type": "stream",
     "text": [
      " 69%|██████▉   | 5008/7276 [01:36<00:40, 56.00batch/s]"
     ]
    },
    {
     "name": "stdout",
     "output_type": "stream",
     "text": [
      "Total Loss: 4532.93124584961\n"
     ]
    },
    {
     "name": "stderr",
     "output_type": "stream",
     "text": [
      " 83%|████████▎ | 6012/7276 [01:54<00:20, 61.39batch/s]"
     ]
    },
    {
     "name": "stdout",
     "output_type": "stream",
     "text": [
      "Total Loss: 4511.519889892578\n"
     ]
    },
    {
     "name": "stderr",
     "output_type": "stream",
     "text": [
      " 96%|█████████▋| 7006/7276 [02:11<00:04, 56.50batch/s]"
     ]
    },
    {
     "name": "stdout",
     "output_type": "stream",
     "text": [
      "Total Loss: 4513.974603027344\n"
     ]
    },
    {
     "name": "stderr",
     "output_type": "stream",
     "text": [
      "100%|██████████| 7276/7276 [02:17<00:00, 52.95batch/s]"
     ]
    },
    {
     "name": "stdout",
     "output_type": "stream",
     "text": [
      "===================================Test_epoch3======================================\n"
     ]
    },
    {
     "name": "stderr",
     "output_type": "stream",
     "text": [
      "\n"
     ]
    },
    {
     "name": "stdout",
     "output_type": "stream",
     "text": [
      "Searching time:  0:00:01.673684\n",
      "Expanded library\n",
      "Top1 hit rate: 15.76%\n",
      "Top10 hit rate: 47.57%\n",
      "Searching time:  0:00:01.597630\n",
      "In-silico library\n",
      "Top1 hit rate: 15.98%\n",
      "Top10 hit rate: 47.98%\n",
      "================================================================================================\n",
      "==================================Train_epoch4======================================\n"
     ]
    },
    {
     "name": "stderr",
     "output_type": "stream",
     "text": [
      " 14%|█▍        | 1006/7276 [00:22<01:43, 60.58batch/s]"
     ]
    },
    {
     "name": "stdout",
     "output_type": "stream",
     "text": [
      "Total Loss: 4496.196471679687\n"
     ]
    },
    {
     "name": "stderr",
     "output_type": "stream",
     "text": [
      " 28%|██▊       | 2008/7276 [00:39<01:31, 57.74batch/s]"
     ]
    },
    {
     "name": "stdout",
     "output_type": "stream",
     "text": [
      "Total Loss: 4499.4114816894535\n"
     ]
    },
    {
     "name": "stderr",
     "output_type": "stream",
     "text": [
      " 41%|████▏     | 3007/7276 [00:56<01:05, 65.10batch/s]"
     ]
    },
    {
     "name": "stdout",
     "output_type": "stream",
     "text": [
      "Total Loss: 4497.305567871093\n"
     ]
    },
    {
     "name": "stderr",
     "output_type": "stream",
     "text": [
      " 55%|█████▌    | 4007/7276 [01:14<00:59, 55.12batch/s]"
     ]
    },
    {
     "name": "stdout",
     "output_type": "stream",
     "text": [
      "Total Loss: 4500.280263916015\n"
     ]
    },
    {
     "name": "stderr",
     "output_type": "stream",
     "text": [
      " 69%|██████▉   | 5006/7276 [01:31<00:36, 61.69batch/s]"
     ]
    },
    {
     "name": "stdout",
     "output_type": "stream",
     "text": [
      "Total Loss: 4491.761201904297\n"
     ]
    },
    {
     "name": "stderr",
     "output_type": "stream",
     "text": [
      " 83%|████████▎ | 6009/7276 [01:48<00:24, 51.89batch/s]"
     ]
    },
    {
     "name": "stdout",
     "output_type": "stream",
     "text": [
      "Total Loss: 4469.273024902343\n"
     ]
    },
    {
     "name": "stderr",
     "output_type": "stream",
     "text": [
      " 96%|█████████▋| 7010/7276 [02:07<00:04, 62.73batch/s]"
     ]
    },
    {
     "name": "stdout",
     "output_type": "stream",
     "text": [
      "Total Loss: 4482.836567626953\n"
     ]
    },
    {
     "name": "stderr",
     "output_type": "stream",
     "text": [
      "100%|██████████| 7276/7276 [02:13<00:00, 54.49batch/s]"
     ]
    },
    {
     "name": "stdout",
     "output_type": "stream",
     "text": [
      "===================================Test_epoch4======================================\n"
     ]
    },
    {
     "name": "stderr",
     "output_type": "stream",
     "text": [
      "\n"
     ]
    },
    {
     "name": "stdout",
     "output_type": "stream",
     "text": [
      "Searching time:  0:00:01.604782\n",
      "Expanded library\n",
      "Top1 hit rate: 15.97%\n",
      "Top10 hit rate: 47.53%\n",
      "Searching time:  0:00:01.608993\n",
      "In-silico library\n",
      "Top1 hit rate: 16.18%\n",
      "Top10 hit rate: 47.93%\n",
      "================================================================================================\n",
      "==================================Train_epoch5======================================\n"
     ]
    },
    {
     "name": "stderr",
     "output_type": "stream",
     "text": [
      " 14%|█▍        | 1012/7276 [00:21<01:45, 59.15batch/s]"
     ]
    },
    {
     "name": "stdout",
     "output_type": "stream",
     "text": [
      "Total Loss: 4462.0601286621095\n"
     ]
    },
    {
     "name": "stderr",
     "output_type": "stream",
     "text": [
      " 28%|██▊       | 2009/7276 [00:38<01:28, 59.21batch/s]"
     ]
    },
    {
     "name": "stdout",
     "output_type": "stream",
     "text": [
      "Total Loss: 4484.607411132813\n"
     ]
    },
    {
     "name": "stderr",
     "output_type": "stream",
     "text": [
      " 41%|████▏     | 3008/7276 [00:56<01:11, 59.73batch/s]"
     ]
    },
    {
     "name": "stdout",
     "output_type": "stream",
     "text": [
      "Total Loss: 4471.8520485839845\n"
     ]
    },
    {
     "name": "stderr",
     "output_type": "stream",
     "text": [
      " 55%|█████▌    | 4005/7276 [01:12<00:54, 60.16batch/s]"
     ]
    },
    {
     "name": "stdout",
     "output_type": "stream",
     "text": [
      "Total Loss: 4447.1296755371095\n"
     ]
    },
    {
     "name": "stderr",
     "output_type": "stream",
     "text": [
      " 69%|██████▉   | 5008/7276 [01:29<00:38, 59.42batch/s]"
     ]
    },
    {
     "name": "stdout",
     "output_type": "stream",
     "text": [
      "Total Loss: 4444.9321953125\n"
     ]
    },
    {
     "name": "stderr",
     "output_type": "stream",
     "text": [
      " 83%|████████▎ | 6006/7276 [01:45<00:21, 60.41batch/s]"
     ]
    },
    {
     "name": "stdout",
     "output_type": "stream",
     "text": [
      "Total Loss: 4433.793981933593\n"
     ]
    },
    {
     "name": "stderr",
     "output_type": "stream",
     "text": [
      " 96%|█████████▋| 7012/7276 [02:02<00:04, 61.60batch/s]"
     ]
    },
    {
     "name": "stdout",
     "output_type": "stream",
     "text": [
      "Total Loss: 4457.10842553711\n"
     ]
    },
    {
     "name": "stderr",
     "output_type": "stream",
     "text": [
      "100%|██████████| 7276/7276 [02:07<00:00, 56.89batch/s]"
     ]
    },
    {
     "name": "stdout",
     "output_type": "stream",
     "text": [
      "===================================Test_epoch5======================================\n"
     ]
    },
    {
     "name": "stderr",
     "output_type": "stream",
     "text": [
      "\n"
     ]
    },
    {
     "name": "stdout",
     "output_type": "stream",
     "text": [
      "Searching time:  0:00:01.594903\n",
      "Expanded library\n",
      "Top1 hit rate: 15.85%\n",
      "Top10 hit rate: 47.66%\n",
      "Searching time:  0:00:01.527984\n",
      "In-silico library\n",
      "Top1 hit rate: 16.07%\n",
      "Top10 hit rate: 48.00%\n",
      "================================================================================================\n",
      "==================================Train_epoch6======================================\n"
     ]
    },
    {
     "name": "stderr",
     "output_type": "stream",
     "text": [
      " 14%|█▍        | 1009/7276 [00:20<01:33, 66.87batch/s]"
     ]
    },
    {
     "name": "stdout",
     "output_type": "stream",
     "text": [
      "Total Loss: 4441.345623535156\n"
     ]
    },
    {
     "name": "stderr",
     "output_type": "stream",
     "text": [
      " 28%|██▊       | 2011/7276 [00:37<01:25, 61.29batch/s]"
     ]
    },
    {
     "name": "stdout",
     "output_type": "stream",
     "text": [
      "Total Loss: 4439.828406738281\n"
     ]
    },
    {
     "name": "stderr",
     "output_type": "stream",
     "text": [
      " 41%|████▏     | 3007/7276 [00:54<01:20, 53.05batch/s]"
     ]
    },
    {
     "name": "stdout",
     "output_type": "stream",
     "text": [
      "Total Loss: 4421.05617944336\n"
     ]
    },
    {
     "name": "stderr",
     "output_type": "stream",
     "text": [
      " 55%|█████▌    | 4008/7276 [01:12<01:02, 52.06batch/s]"
     ]
    },
    {
     "name": "stdout",
     "output_type": "stream",
     "text": [
      "Total Loss: 4430.0167453613285\n"
     ]
    },
    {
     "name": "stderr",
     "output_type": "stream",
     "text": [
      " 69%|██████▉   | 5006/7276 [01:29<00:37, 60.72batch/s]"
     ]
    },
    {
     "name": "stdout",
     "output_type": "stream",
     "text": [
      "Total Loss: 4425.186439697266\n"
     ]
    },
    {
     "name": "stderr",
     "output_type": "stream",
     "text": [
      " 83%|████████▎ | 6009/7276 [01:46<00:22, 56.15batch/s]"
     ]
    },
    {
     "name": "stdout",
     "output_type": "stream",
     "text": [
      "Total Loss: 4425.766387939453\n"
     ]
    },
    {
     "name": "stderr",
     "output_type": "stream",
     "text": [
      " 96%|█████████▋| 7009/7276 [02:02<00:04, 62.05batch/s]"
     ]
    },
    {
     "name": "stdout",
     "output_type": "stream",
     "text": [
      "Total Loss: 4408.409954833985\n"
     ]
    },
    {
     "name": "stderr",
     "output_type": "stream",
     "text": [
      "100%|██████████| 7276/7276 [02:08<00:00, 56.84batch/s]"
     ]
    },
    {
     "name": "stdout",
     "output_type": "stream",
     "text": [
      "===================================Test_epoch6======================================\n"
     ]
    },
    {
     "name": "stderr",
     "output_type": "stream",
     "text": [
      "\n"
     ]
    },
    {
     "name": "stdout",
     "output_type": "stream",
     "text": [
      "Searching time:  0:00:01.598154\n",
      "Expanded library\n",
      "Top1 hit rate: 16.04%\n",
      "Top10 hit rate: 47.84%\n",
      "Searching time:  0:00:01.517527\n",
      "In-silico library\n",
      "Top1 hit rate: 16.24%\n",
      "Top10 hit rate: 48.17%\n",
      "================================================================================================\n",
      "==================================Train_epoch7======================================\n"
     ]
    },
    {
     "name": "stderr",
     "output_type": "stream",
     "text": [
      " 14%|█▍        | 1009/7276 [00:20<01:42, 61.42batch/s]"
     ]
    },
    {
     "name": "stdout",
     "output_type": "stream",
     "text": [
      "Total Loss: 4408.038583007812\n"
     ]
    },
    {
     "name": "stderr",
     "output_type": "stream",
     "text": [
      " 28%|██▊       | 2007/7276 [00:36<01:25, 61.79batch/s]"
     ]
    },
    {
     "name": "stdout",
     "output_type": "stream",
     "text": [
      "Total Loss: 4392.315282226563\n"
     ]
    },
    {
     "name": "stderr",
     "output_type": "stream",
     "text": [
      " 41%|████▏     | 3008/7276 [00:53<01:20, 52.93batch/s]"
     ]
    },
    {
     "name": "stdout",
     "output_type": "stream",
     "text": [
      "Total Loss: 4395.701947753906\n"
     ]
    },
    {
     "name": "stderr",
     "output_type": "stream",
     "text": [
      " 55%|█████▌    | 4011/7276 [01:09<00:51, 63.05batch/s]"
     ]
    },
    {
     "name": "stdout",
     "output_type": "stream",
     "text": [
      "Total Loss: 4417.090203369141\n"
     ]
    },
    {
     "name": "stderr",
     "output_type": "stream",
     "text": [
      " 69%|██████▉   | 5009/7276 [01:26<00:39, 57.64batch/s]"
     ]
    },
    {
     "name": "stdout",
     "output_type": "stream",
     "text": [
      "Total Loss: 4384.583829833984\n"
     ]
    },
    {
     "name": "stderr",
     "output_type": "stream",
     "text": [
      " 83%|████████▎ | 6009/7276 [01:43<00:20, 62.19batch/s]"
     ]
    },
    {
     "name": "stdout",
     "output_type": "stream",
     "text": [
      "Total Loss: 4409.755079345703\n"
     ]
    },
    {
     "name": "stderr",
     "output_type": "stream",
     "text": [
      " 96%|█████████▋| 7011/7276 [02:00<00:05, 50.04batch/s]"
     ]
    },
    {
     "name": "stdout",
     "output_type": "stream",
     "text": [
      "Total Loss: 4394.834260742187\n"
     ]
    },
    {
     "name": "stderr",
     "output_type": "stream",
     "text": [
      "100%|██████████| 7276/7276 [02:05<00:00, 57.80batch/s]"
     ]
    },
    {
     "name": "stdout",
     "output_type": "stream",
     "text": [
      "===================================Test_epoch7======================================\n"
     ]
    },
    {
     "name": "stderr",
     "output_type": "stream",
     "text": [
      "\n"
     ]
    },
    {
     "name": "stdout",
     "output_type": "stream",
     "text": [
      "Searching time:  0:00:01.612750\n",
      "Expanded library\n",
      "Top1 hit rate: 16.00%\n",
      "Top10 hit rate: 47.80%\n",
      "Searching time:  0:00:01.527824\n",
      "In-silico library\n",
      "Top1 hit rate: 16.20%\n",
      "Top10 hit rate: 48.19%\n",
      "================================================================================================\n",
      "==================================Train_epoch8======================================\n"
     ]
    },
    {
     "name": "stderr",
     "output_type": "stream",
     "text": [
      " 14%|█▍        | 1007/7276 [00:20<01:46, 59.09batch/s]"
     ]
    },
    {
     "name": "stdout",
     "output_type": "stream",
     "text": [
      "Total Loss: 4395.5543068847655\n"
     ]
    },
    {
     "name": "stderr",
     "output_type": "stream",
     "text": [
      " 28%|██▊       | 2007/7276 [00:36<01:28, 59.32batch/s]"
     ]
    },
    {
     "name": "stdout",
     "output_type": "stream",
     "text": [
      "Total Loss: 4390.239142578125\n"
     ]
    },
    {
     "name": "stderr",
     "output_type": "stream",
     "text": [
      " 41%|████▏     | 3010/7276 [00:53<01:27, 48.89batch/s]"
     ]
    },
    {
     "name": "stdout",
     "output_type": "stream",
     "text": [
      "Total Loss: 4361.707003417969\n"
     ]
    },
    {
     "name": "stderr",
     "output_type": "stream",
     "text": [
      " 55%|█████▌    | 4010/7276 [01:10<00:51, 63.08batch/s]"
     ]
    },
    {
     "name": "stdout",
     "output_type": "stream",
     "text": [
      "Total Loss: 4357.913639892578\n"
     ]
    },
    {
     "name": "stderr",
     "output_type": "stream",
     "text": [
      " 69%|██████▉   | 5005/7276 [01:26<00:39, 57.62batch/s]"
     ]
    },
    {
     "name": "stdout",
     "output_type": "stream",
     "text": [
      "Total Loss: 4368.652230224609\n"
     ]
    },
    {
     "name": "stderr",
     "output_type": "stream",
     "text": [
      " 83%|████████▎ | 6009/7276 [01:43<00:21, 58.44batch/s]"
     ]
    },
    {
     "name": "stdout",
     "output_type": "stream",
     "text": [
      "Total Loss: 4368.910157226563\n"
     ]
    },
    {
     "name": "stderr",
     "output_type": "stream",
     "text": [
      " 96%|█████████▋| 7008/7276 [02:00<00:04, 65.71batch/s]"
     ]
    },
    {
     "name": "stdout",
     "output_type": "stream",
     "text": [
      "Total Loss: 4401.783680175781\n"
     ]
    },
    {
     "name": "stderr",
     "output_type": "stream",
     "text": [
      "100%|██████████| 7276/7276 [02:05<00:00, 58.15batch/s]"
     ]
    },
    {
     "name": "stdout",
     "output_type": "stream",
     "text": [
      "===================================Test_epoch8======================================\n"
     ]
    },
    {
     "name": "stderr",
     "output_type": "stream",
     "text": [
      "\n"
     ]
    },
    {
     "name": "stdout",
     "output_type": "stream",
     "text": [
      "Searching time:  0:00:01.598548\n",
      "Expanded library\n",
      "Top1 hit rate: 16.05%\n",
      "Top10 hit rate: 47.89%\n",
      "Searching time:  0:00:01.524510\n",
      "In-silico library\n",
      "Top1 hit rate: 16.26%\n",
      "Top10 hit rate: 48.25%\n",
      "================================================================================================\n",
      "==================================Train_epoch9======================================\n"
     ]
    },
    {
     "name": "stderr",
     "output_type": "stream",
     "text": [
      " 14%|█▍        | 1012/7276 [00:21<01:42, 61.30batch/s]"
     ]
    },
    {
     "name": "stdout",
     "output_type": "stream",
     "text": [
      "Total Loss: 4377.277568115234\n"
     ]
    },
    {
     "name": "stderr",
     "output_type": "stream",
     "text": [
      " 28%|██▊       | 2008/7276 [00:37<01:32, 56.94batch/s]"
     ]
    },
    {
     "name": "stdout",
     "output_type": "stream",
     "text": [
      "Total Loss: 4351.2149831542965\n"
     ]
    },
    {
     "name": "stderr",
     "output_type": "stream",
     "text": [
      " 41%|████▏     | 3010/7276 [00:54<01:09, 61.57batch/s]"
     ]
    },
    {
     "name": "stdout",
     "output_type": "stream",
     "text": [
      "Total Loss: 4356.958926269531\n"
     ]
    },
    {
     "name": "stderr",
     "output_type": "stream",
     "text": [
      " 55%|█████▌    | 4011/7276 [01:11<00:56, 57.43batch/s]"
     ]
    },
    {
     "name": "stdout",
     "output_type": "stream",
     "text": [
      "Total Loss: 4351.106186279297\n"
     ]
    },
    {
     "name": "stderr",
     "output_type": "stream",
     "text": [
      " 69%|██████▉   | 5011/7276 [01:28<00:38, 59.36batch/s]"
     ]
    },
    {
     "name": "stdout",
     "output_type": "stream",
     "text": [
      "Total Loss: 4340.708814453125\n"
     ]
    },
    {
     "name": "stderr",
     "output_type": "stream",
     "text": [
      " 83%|████████▎ | 6007/7276 [01:44<00:21, 58.85batch/s]"
     ]
    },
    {
     "name": "stdout",
     "output_type": "stream",
     "text": [
      "Total Loss: 4354.602824462891\n"
     ]
    },
    {
     "name": "stderr",
     "output_type": "stream",
     "text": [
      " 96%|█████████▋| 7007/7276 [02:01<00:04, 56.67batch/s]"
     ]
    },
    {
     "name": "stdout",
     "output_type": "stream",
     "text": [
      "Total Loss: 4347.352869873047\n"
     ]
    },
    {
     "name": "stderr",
     "output_type": "stream",
     "text": [
      "100%|██████████| 7276/7276 [02:06<00:00, 57.40batch/s]"
     ]
    },
    {
     "name": "stdout",
     "output_type": "stream",
     "text": [
      "===================================Test_epoch9======================================\n"
     ]
    },
    {
     "name": "stderr",
     "output_type": "stream",
     "text": [
      "\n"
     ]
    },
    {
     "name": "stdout",
     "output_type": "stream",
     "text": [
      "Searching time:  0:00:01.586156\n",
      "Expanded library\n",
      "Top1 hit rate: 16.18%\n",
      "Top10 hit rate: 47.92%\n",
      "Searching time:  0:00:01.511247\n",
      "In-silico library\n",
      "Top1 hit rate: 16.39%\n",
      "Top10 hit rate: 48.31%\n",
      "================================================================================================\n",
      "==================================Train_epoch10======================================\n"
     ]
    },
    {
     "name": "stderr",
     "output_type": "stream",
     "text": [
      " 14%|█▍        | 1009/7276 [00:19<01:34, 66.32batch/s]"
     ]
    },
    {
     "name": "stdout",
     "output_type": "stream",
     "text": [
      "Total Loss: 4327.11515258789\n"
     ]
    },
    {
     "name": "stderr",
     "output_type": "stream",
     "text": [
      " 28%|██▊       | 2010/7276 [00:37<01:27, 59.91batch/s]"
     ]
    },
    {
     "name": "stdout",
     "output_type": "stream",
     "text": [
      "Total Loss: 4348.519002685547\n"
     ]
    },
    {
     "name": "stderr",
     "output_type": "stream",
     "text": [
      " 41%|████▏     | 3010/7276 [00:54<01:13, 58.15batch/s]"
     ]
    },
    {
     "name": "stdout",
     "output_type": "stream",
     "text": [
      "Total Loss: 4321.942749755859\n"
     ]
    },
    {
     "name": "stderr",
     "output_type": "stream",
     "text": [
      " 55%|█████▌    | 4006/7276 [01:12<00:55, 59.42batch/s]"
     ]
    },
    {
     "name": "stdout",
     "output_type": "stream",
     "text": [
      "Total Loss: 4347.477515625\n"
     ]
    },
    {
     "name": "stderr",
     "output_type": "stream",
     "text": [
      " 69%|██████▉   | 5008/7276 [01:29<00:37, 61.16batch/s]"
     ]
    },
    {
     "name": "stdout",
     "output_type": "stream",
     "text": [
      "Total Loss: 4340.5745625\n"
     ]
    },
    {
     "name": "stderr",
     "output_type": "stream",
     "text": [
      " 83%|████████▎ | 6006/7276 [01:45<00:21, 58.24batch/s]"
     ]
    },
    {
     "name": "stdout",
     "output_type": "stream",
     "text": [
      "Total Loss: 4339.7718303222655\n"
     ]
    },
    {
     "name": "stderr",
     "output_type": "stream",
     "text": [
      " 96%|█████████▋| 7007/7276 [02:02<00:04, 56.11batch/s]"
     ]
    },
    {
     "name": "stdout",
     "output_type": "stream",
     "text": [
      "Total Loss: 4316.208511962891\n"
     ]
    },
    {
     "name": "stderr",
     "output_type": "stream",
     "text": [
      "100%|██████████| 7276/7276 [02:07<00:00, 57.08batch/s]"
     ]
    },
    {
     "name": "stdout",
     "output_type": "stream",
     "text": [
      "===================================Test_epoch10======================================\n"
     ]
    },
    {
     "name": "stderr",
     "output_type": "stream",
     "text": [
      "\n"
     ]
    },
    {
     "name": "stdout",
     "output_type": "stream",
     "text": [
      "Searching time:  0:00:01.593755\n",
      "Expanded library\n",
      "Top1 hit rate: 16.14%\n",
      "Top10 hit rate: 47.92%\n",
      "Searching time:  0:00:01.510266\n",
      "In-silico library\n",
      "Top1 hit rate: 16.34%\n",
      "Top10 hit rate: 48.30%\n",
      "================================================================================================\n"
     ]
    }
   ],
   "source": [
    "from tqdm import tqdm\n",
    "from utils.tools import gen_embeddings, build_idx, evaluate, save_model\n",
    "\n",
    "\n",
    "\n",
    "f = open('base_log.txt', 'w')\n",
    "model_name = 'base_log'\n",
    "max_metrics = {'expand': [0, 0], 'insilico': [0, 0]}\n",
    "for epoch in range(epochs):\n",
    "    print(f'==================================Train_epoch{epoch+1}======================================')\n",
    "    model.train()\n",
    "    train_loss = []\n",
    "    for i, Data in enumerate(tqdm(loader_train, unit='batch')):\n",
    "        data = [d.to(gpu) for d in Data]\n",
    "        optimizer.zero_grad()\n",
    "        loss = model(data)\n",
    "        train_loss.append(loss.item())\n",
    "        loss.backward()\n",
    "        optimizer.step()\n",
    "        batch_progress = (i+1)/num_batches\n",
    "        lr = scheduler.lr_lambda(epoch, batch_progress)\n",
    "        for param_group in optimizer.param_groups:\n",
    "            param_group['lr'] = lr\n",
    "        if (i+1) %1000 ==0:\n",
    "            loss = np.mean(train_loss)\n",
    "            print(f'Total Loss: {loss}')\n",
    "            train_loss = []\n",
    "    \n",
    "    print(f'===================================Test_epoch{epoch+1}======================================')\n",
    "    f.write('\\nTest_epoch%d\\n' % (epoch+1))\n",
    "    embeddings_lib = gen_embeddings(model, loader_lib, gpu)\n",
    "    embeddings_test = gen_embeddings(model, loader_test, gpu)\n",
    "    I_expand, _ = build_idx(embeddings_lib, embeddings_test, gpu)\n",
    "    top1_expand, top10_expand = evaluate(mols_test, I_expand, mols_all, f, 'Expanded')\n",
    "    if top1_expand > max_metrics['expand'][0] and top10_expand > max_metrics['expand'][1]:\n",
    "        max_metrics['expand'] = [top1_expand, top10_expand]\n",
    "        save_model(model, model_name, epoch)\n",
    "    I_insilico, _ = build_idx(embeddings_lib[:2146690], embeddings_test, gpu)\n",
    "    top1_insilico, top10_insilico = evaluate(mols_test, I_insilico, mols_all, f, 'In-silico')\n",
    "    if top1_insilico > max_metrics['insilico'][0] and top10_insilico > max_metrics['insilico'][1]:\n",
    "        max_metrics['insilico'] = [top1_insilico, top10_insilico]\n",
    "        save_model(model, model_name, epoch)\n",
    "    print(f'================================================================================================')\n",
    "f.close()"
   ]
  },
  {
   "cell_type": "code",
   "execution_count": 7,
   "metadata": {},
   "outputs": [],
   "source": [
    "pt.cuda.empty_cache()"
   ]
  }
 ],
 "metadata": {
  "kernelspec": {
   "display_name": "Python 3 (ipykernel)",
   "language": "python",
   "name": "python3"
  }
 },
 "nbformat": 4,
 "nbformat_minor": 2
}
