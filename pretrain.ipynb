{
 "cells": [
  {
   "cell_type": "code",
   "execution_count": 10,
   "metadata": {},
   "outputs": [
    {
     "name": "stdout",
     "output_type": "stream",
     "text": [
      "11499\n",
      "2253216\n"
     ]
    }
   ],
   "source": [
    "import torch as pt\n",
    "\n",
    "\n",
    "mols_test = pt.load('./data/mine/test_11499.pt')\n",
    "print(len(mols_test))\n",
    "mols_all = pt.load('./data/mine/mols_all.pt')\n",
    "print(len(mols_all))"
   ]
  },
  {
   "cell_type": "code",
   "execution_count": 11,
   "metadata": {},
   "outputs": [
    {
     "name": "stdout",
     "output_type": "stream",
     "text": [
      "(1000,)\n"
     ]
    }
   ],
   "source": [
    "# 统计词频\n",
    "import numpy as np\n",
    "\n",
    "\n",
    "mols_train = mols_all[:232826]\n",
    "count_list = np.zeros(1000)\n",
    "for mol in mols_train:\n",
    "    tmp_list = np.zeros(1000)\n",
    "    for mz in mol.mz:\n",
    "        tmp_list[int(mz)] = 1\n",
    "    count_list += tmp_list\n",
    "\n",
    "count_list += 1  \n",
    "print(count_list.shape)"
   ]
  },
  {
   "cell_type": "code",
   "execution_count": 3,
   "metadata": {},
   "outputs": [
    {
     "data": {
      "image/png": "[encoded data removed]",
      "text/plain": [
       "<Figure size 640x480 with 1 Axes>"
      ]
     },
     "metadata": {},
     "output_type": "display_data"
    }
   ],
   "source": [
    "import matplotlib.pyplot as plt\n",
    "from matplotlib.ticker import FuncFormatter\n",
    "\n",
    "fig = plt.figure()\n",
    "ax = fig.add_subplot()\n",
    "ax.bar(np.arange(1000), count_list)\n",
    "ax.set_xlabel('m/z', loc='right')\n",
    "ax.set_ylabel('count', loc='top')\n",
    "# ax.legend()\n",
    "def formatter(x, pos):\n",
    "    return f'{int(x/1000)} k'\n",
    "plt.gca().yaxis.set_major_formatter(FuncFormatter(formatter))\n",
    "# fig.savefig('count_bar.svg', format='svg', dpi=500)"
   ]
  },
  {
   "cell_type": "code",
   "execution_count": 12,
   "metadata": {},
   "outputs": [
    {
     "name": "stdout",
     "output_type": "stream",
     "text": [
      "(1000,)\n"
     ]
    }
   ],
   "source": [
    "import numpy as np\n",
    "\n",
    "\n",
    "# 生成负采样概率\n",
    "pow_frequency = np.array(count_list) ** 0.75\n",
    "neg_prob = pow_frequency / pow_frequency.sum()\n",
    "print(neg_prob.shape)\n",
    "# 生成下采样概率\n",
    "mzs_freq = np.array(count_list)\n",
    "mzs_freq = mzs_freq / np.sum(mzs_freq)\n",
    "t = 1e-3\n",
    "keep_prob = np.array([np.sqrt(t/f) + t/f for f in mzs_freq])"
   ]
  },
  {
   "cell_type": "code",
   "execution_count": 14,
   "metadata": {},
   "outputs": [],
   "source": [
    "from torch.utils.data import DataLoader\n",
    "from utils.data import SpecDataset, collate_fun, collate_fun_emb\n",
    "import numpy as np\n",
    "\n",
    "\n",
    "dataset_lib = SpecDataset(mols_all)\n",
    "dataset_test = SpecDataset(mols_test)\n",
    "loader_lib = DataLoader(dataset_lib, batch_size=2048, shuffle=False,\n",
    "                        num_workers=8, collate_fn=collate_fun_emb)\n",
    "loader_test = DataLoader(dataset_test, batch_size=2048, shuffle=False,\n",
    "                        num_workers=8, collate_fn=collate_fun_emb)\n",
    "dataset_train = SpecDataset(dataset_lib, mapping=np.arange(232826))\n",
    "loader_train = DataLoader(dataset_train, batch_size=32, shuffle=True, \n",
    "                            num_workers=8, collate_fn=collate_fun(keep_prob, neg_prob))\n",
    "num_batches = len(loader_train)"
   ]
  },
  {
   "cell_type": "code",
   "execution_count": null,
   "metadata": {},
   "outputs": [],
   "source": [
    "import torch.optim as optim\n",
    "from utils.model import Spec2Emb, Linear_Scheduler\n",
    "\n",
    "\n",
    "gpu = 6\n",
    "model = Spec2Emb().to(gpu)\n",
    "\n",
    "epochs = 10\n",
    "lr = 0.025\n",
    "optimizer = optim.SGD(model.parameters(), lr=lr)\n",
    "scheduler = Linear_Scheduler(optimizer, epochs, start_lr=lr, end_lr=2.5e-4)"
   ]
  },
  {
   "cell_type": "code",
   "execution_count": 16,
   "metadata": {},
   "outputs": [
    {
     "name": "stdout",
     "output_type": "stream",
     "text": [
      "==================================Train_epoch1======================================\n"
     ]
    },
    {
     "name": "stderr",
     "output_type": "stream",
     "text": [
      " 14%|█▍        | 1008/7276 [00:22<01:58, 52.79batch/s]"
     ]
    },
    {
     "name": "stdout",
     "output_type": "stream",
     "text": [
      "Total Loss: 6033.385208251953\n"
     ]
    },
    {
     "name": "stderr",
     "output_type": "stream",
     "text": [
      " 28%|██▊       | 2010/7276 [00:41<01:39, 53.03batch/s]"
     ]
    },
    {
     "name": "stdout",
     "output_type": "stream",
     "text": [
      "Total Loss: 5150.754780517578\n"
     ]
    },
    {
     "name": "stderr",
     "output_type": "stream",
     "text": [
      " 41%|████▏     | 3010/7276 [00:59<01:15, 56.17batch/s]"
     ]
    },
    {
     "name": "stdout",
     "output_type": "stream",
     "text": [
      "Total Loss: 4929.621965820313\n"
     ]
    },
    {
     "name": "stderr",
     "output_type": "stream",
     "text": [
      " 55%|█████▌    | 4007/7276 [01:17<01:04, 50.89batch/s]"
     ]
    },
    {
     "name": "stdout",
     "output_type": "stream",
     "text": [
      "Total Loss: 4828.038224853515\n"
     ]
    },
    {
     "name": "stderr",
     "output_type": "stream",
     "text": [
      " 69%|██████▉   | 5010/7276 [01:36<00:42, 53.90batch/s]"
     ]
    },
    {
     "name": "stdout",
     "output_type": "stream",
     "text": [
      "Total Loss: 4770.24563671875\n"
     ]
    },
    {
     "name": "stderr",
     "output_type": "stream",
     "text": [
      " 83%|████████▎ | 6008/7276 [01:54<00:23, 54.67batch/s]"
     ]
    },
    {
     "name": "stdout",
     "output_type": "stream",
     "text": [
      "Total Loss: 4714.367713134766\n"
     ]
    },
    {
     "name": "stderr",
     "output_type": "stream",
     "text": [
      " 96%|█████████▋| 7008/7276 [02:12<00:05, 50.64batch/s]"
     ]
    },
    {
     "name": "stdout",
     "output_type": "stream",
     "text": [
      "Total Loss: 4710.030742431641\n"
     ]
    },
    {
     "name": "stderr",
     "output_type": "stream",
     "text": [
      "100%|██████████| 7276/7276 [02:18<00:00, 52.49batch/s]"
     ]
    },
    {
     "name": "stdout",
     "output_type": "stream",
     "text": [
      "===================================Test_epoch1======================================\n"
     ]
    },
    {
     "name": "stderr",
     "output_type": "stream",
     "text": [
      "\n"
     ]
    },
    {
     "name": "stdout",
     "output_type": "stream",
     "text": [
      "Searching time:  0:00:01.567816\n",
      "Expanded library\n",
      "Top1 hit rate: 38.98%\n",
      "Top10 hit rate: 80.24%\n",
      "Searching time:  0:00:01.486804\n",
      "In-silico library\n",
      "Top1 hit rate: 39.31%\n",
      "Top10 hit rate: 80.62%\n",
      "================================================================================================\n",
      "==================================Train_epoch2======================================\n"
     ]
    },
    {
     "name": "stderr",
     "output_type": "stream",
     "text": [
      " 14%|█▍        | 1005/7276 [00:22<01:56, 53.64batch/s]"
     ]
    },
    {
     "name": "stdout",
     "output_type": "stream",
     "text": [
      "Total Loss: 4644.067996337891\n"
     ]
    },
    {
     "name": "stderr",
     "output_type": "stream",
     "text": [
      " 28%|██▊       | 2006/7276 [00:40<01:30, 58.31batch/s]"
     ]
    },
    {
     "name": "stdout",
     "output_type": "stream",
     "text": [
      "Total Loss: 4621.316576416016\n"
     ]
    },
    {
     "name": "stderr",
     "output_type": "stream",
     "text": [
      " 41%|████▏     | 3007/7276 [00:58<01:18, 54.51batch/s]"
     ]
    },
    {
     "name": "stdout",
     "output_type": "stream",
     "text": [
      "Total Loss: 4627.062863769531\n"
     ]
    },
    {
     "name": "stderr",
     "output_type": "stream",
     "text": [
      " 55%|█████▌    | 4005/7276 [01:17<00:59, 54.52batch/s]"
     ]
    },
    {
     "name": "stdout",
     "output_type": "stream",
     "text": [
      "Total Loss: 4622.396344482422\n"
     ]
    },
    {
     "name": "stderr",
     "output_type": "stream",
     "text": [
      " 69%|██████▉   | 5009/7276 [01:35<00:40, 56.52batch/s]"
     ]
    },
    {
     "name": "stdout",
     "output_type": "stream",
     "text": [
      "Total Loss: 4603.621482910156\n"
     ]
    },
    {
     "name": "stderr",
     "output_type": "stream",
     "text": [
      " 83%|████████▎ | 6007/7276 [01:54<00:21, 58.54batch/s]"
     ]
    },
    {
     "name": "stdout",
     "output_type": "stream",
     "text": [
      "Total Loss: 4576.239785888672\n"
     ]
    },
    {
     "name": "stderr",
     "output_type": "stream",
     "text": [
      " 96%|█████████▋| 7010/7276 [02:11<00:05, 52.98batch/s]"
     ]
    },
    {
     "name": "stdout",
     "output_type": "stream",
     "text": [
      "Total Loss: 4558.273916015625\n"
     ]
    },
    {
     "name": "stderr",
     "output_type": "stream",
     "text": [
      "100%|██████████| 7276/7276 [02:17<00:00, 52.73batch/s]"
     ]
    },
    {
     "name": "stdout",
     "output_type": "stream",
     "text": [
      "===================================Test_epoch2======================================\n"
     ]
    },
    {
     "name": "stderr",
     "output_type": "stream",
     "text": [
      "\n"
     ]
    },
    {
     "name": "stdout",
     "output_type": "stream",
     "text": [
      "Searching time:  0:00:01.555604\n",
      "Expanded library\n",
      "Top1 hit rate: 39.18%\n",
      "Top10 hit rate: 80.40%\n",
      "Searching time:  0:00:01.484065\n",
      "In-silico library\n",
      "Top1 hit rate: 39.55%\n",
      "Top10 hit rate: 80.84%\n",
      "================================================================================================\n",
      "==================================Train_epoch3======================================\n"
     ]
    },
    {
     "name": "stderr",
     "output_type": "stream",
     "text": [
      " 14%|█▍        | 1007/7276 [00:23<02:06, 49.67batch/s]"
     ]
    },
    {
     "name": "stdout",
     "output_type": "stream",
     "text": [
      "Total Loss: 4567.17003125\n"
     ]
    },
    {
     "name": "stderr",
     "output_type": "stream",
     "text": [
      " 28%|██▊       | 2005/7276 [00:42<01:41, 51.98batch/s]"
     ]
    },
    {
     "name": "stdout",
     "output_type": "stream",
     "text": [
      "Total Loss: 4524.159290527344\n"
     ]
    },
    {
     "name": "stderr",
     "output_type": "stream",
     "text": [
      " 41%|████▏     | 3010/7276 [01:01<01:21, 52.59batch/s]"
     ]
    },
    {
     "name": "stdout",
     "output_type": "stream",
     "text": [
      "Total Loss: 4533.145405761718\n"
     ]
    },
    {
     "name": "stderr",
     "output_type": "stream",
     "text": [
      " 55%|█████▌    | 4010/7276 [01:19<00:59, 55.28batch/s]"
     ]
    },
    {
     "name": "stdout",
     "output_type": "stream",
     "text": [
      "Total Loss: 4531.820549560547\n"
     ]
    },
    {
     "name": "stderr",
     "output_type": "stream",
     "text": [
      " 69%|██████▉   | 5010/7276 [01:38<00:44, 51.02batch/s]"
     ]
    },
    {
     "name": "stdout",
     "output_type": "stream",
     "text": [
      "Total Loss: 4529.629224609375\n"
     ]
    },
    {
     "name": "stderr",
     "output_type": "stream",
     "text": [
      " 83%|████████▎ | 6009/7276 [01:56<00:23, 52.99batch/s]"
     ]
    },
    {
     "name": "stdout",
     "output_type": "stream",
     "text": [
      "Total Loss: 4554.8699445800785\n"
     ]
    },
    {
     "name": "stderr",
     "output_type": "stream",
     "text": [
      " 96%|█████████▋| 7010/7276 [02:15<00:04, 58.45batch/s]"
     ]
    },
    {
     "name": "stdout",
     "output_type": "stream",
     "text": [
      "Total Loss: 4524.177629882813\n"
     ]
    },
    {
     "name": "stderr",
     "output_type": "stream",
     "text": [
      "100%|██████████| 7276/7276 [02:21<00:00, 51.41batch/s]"
     ]
    },
    {
     "name": "stdout",
     "output_type": "stream",
     "text": [
      "===================================Test_epoch3======================================\n"
     ]
    },
    {
     "name": "stderr",
     "output_type": "stream",
     "text": [
      "\n"
     ]
    },
    {
     "name": "stdout",
     "output_type": "stream",
     "text": [
      "Searching time:  0:00:01.556373\n",
      "Expanded library\n",
      "Top1 hit rate: 39.06%\n",
      "Top10 hit rate: 80.40%\n",
      "Searching time:  0:00:01.499018\n",
      "In-silico library\n",
      "Top1 hit rate: 39.46%\n",
      "Top10 hit rate: 80.86%\n",
      "================================================================================================\n",
      "==================================Train_epoch4======================================\n"
     ]
    },
    {
     "name": "stderr",
     "output_type": "stream",
     "text": [
      " 14%|█▍        | 1004/7276 [00:22<01:58, 53.12batch/s]"
     ]
    },
    {
     "name": "stdout",
     "output_type": "stream",
     "text": [
      "Total Loss: 4517.209921386719\n"
     ]
    },
    {
     "name": "stderr",
     "output_type": "stream",
     "text": [
      " 28%|██▊       | 2008/7276 [00:40<01:32, 56.87batch/s]"
     ]
    },
    {
     "name": "stdout",
     "output_type": "stream",
     "text": [
      "Total Loss: 4512.233380126953\n"
     ]
    },
    {
     "name": "stderr",
     "output_type": "stream",
     "text": [
      " 41%|████▏     | 3006/7276 [00:58<01:16, 55.49batch/s]"
     ]
    },
    {
     "name": "stdout",
     "output_type": "stream",
     "text": [
      "Total Loss: 4485.447205810547\n"
     ]
    },
    {
     "name": "stderr",
     "output_type": "stream",
     "text": [
      " 55%|█████▌    | 4007/7276 [01:17<00:58, 56.22batch/s]"
     ]
    },
    {
     "name": "stdout",
     "output_type": "stream",
     "text": [
      "Total Loss: 4483.695782958985\n"
     ]
    },
    {
     "name": "stderr",
     "output_type": "stream",
     "text": [
      " 69%|██████▉   | 5007/7276 [01:35<00:44, 51.18batch/s]"
     ]
    },
    {
     "name": "stdout",
     "output_type": "stream",
     "text": [
      "Total Loss: 4495.500345458984\n"
     ]
    },
    {
     "name": "stderr",
     "output_type": "stream",
     "text": [
      " 83%|████████▎ | 6011/7276 [01:53<00:22, 55.02batch/s]"
     ]
    },
    {
     "name": "stdout",
     "output_type": "stream",
     "text": [
      "Total Loss: 4486.946020263672\n"
     ]
    },
    {
     "name": "stderr",
     "output_type": "stream",
     "text": [
      " 96%|█████████▋| 7009/7276 [02:11<00:05, 51.12batch/s]"
     ]
    },
    {
     "name": "stdout",
     "output_type": "stream",
     "text": [
      "Total Loss: 4466.428073242188\n"
     ]
    },
    {
     "name": "stderr",
     "output_type": "stream",
     "text": [
      "100%|██████████| 7276/7276 [02:17<00:00, 52.87batch/s]"
     ]
    },
    {
     "name": "stdout",
     "output_type": "stream",
     "text": [
      "===================================Test_epoch4======================================\n"
     ]
    },
    {
     "name": "stderr",
     "output_type": "stream",
     "text": [
      "\n"
     ]
    },
    {
     "name": "stdout",
     "output_type": "stream",
     "text": [
      "Searching time:  0:00:01.563626\n",
      "Expanded library\n",
      "Top1 hit rate: 39.13%\n",
      "Top10 hit rate: 80.40%\n",
      "Searching time:  0:00:01.492311\n",
      "In-silico library\n",
      "Top1 hit rate: 39.53%\n",
      "Top10 hit rate: 80.83%\n",
      "================================================================================================\n",
      "==================================Train_epoch5======================================\n"
     ]
    },
    {
     "name": "stderr",
     "output_type": "stream",
     "text": [
      " 14%|█▍        | 1005/7276 [00:22<02:00, 51.89batch/s]"
     ]
    },
    {
     "name": "stdout",
     "output_type": "stream",
     "text": [
      "Total Loss: 4454.127365966797\n"
     ]
    },
    {
     "name": "stderr",
     "output_type": "stream",
     "text": [
      " 28%|██▊       | 2010/7276 [00:40<01:36, 54.57batch/s]"
     ]
    },
    {
     "name": "stdout",
     "output_type": "stream",
     "text": [
      "Total Loss: 4459.434528076172\n"
     ]
    },
    {
     "name": "stderr",
     "output_type": "stream",
     "text": [
      " 41%|████▏     | 3011/7276 [00:58<01:28, 48.38batch/s]"
     ]
    },
    {
     "name": "stdout",
     "output_type": "stream",
     "text": [
      "Total Loss: 4455.537018798828\n"
     ]
    },
    {
     "name": "stderr",
     "output_type": "stream",
     "text": [
      " 55%|█████▌    | 4007/7276 [01:15<00:59, 54.73batch/s]"
     ]
    },
    {
     "name": "stdout",
     "output_type": "stream",
     "text": [
      "Total Loss: 4468.841492919922\n"
     ]
    },
    {
     "name": "stderr",
     "output_type": "stream",
     "text": [
      " 69%|██████▉   | 5009/7276 [01:33<00:38, 59.09batch/s]"
     ]
    },
    {
     "name": "stdout",
     "output_type": "stream",
     "text": [
      "Total Loss: 4457.1284230957035\n"
     ]
    },
    {
     "name": "stderr",
     "output_type": "stream",
     "text": [
      " 83%|████████▎ | 6011/7276 [01:52<00:21, 57.90batch/s]"
     ]
    },
    {
     "name": "stdout",
     "output_type": "stream",
     "text": [
      "Total Loss: 4441.4221953125\n"
     ]
    },
    {
     "name": "stderr",
     "output_type": "stream",
     "text": [
      " 96%|█████████▋| 7007/7276 [02:10<00:04, 57.20batch/s]"
     ]
    },
    {
     "name": "stdout",
     "output_type": "stream",
     "text": [
      "Total Loss: 4460.464249267578\n"
     ]
    },
    {
     "name": "stderr",
     "output_type": "stream",
     "text": [
      "100%|██████████| 7276/7276 [02:16<00:00, 53.42batch/s]"
     ]
    },
    {
     "name": "stdout",
     "output_type": "stream",
     "text": [
      "===================================Test_epoch5======================================\n"
     ]
    },
    {
     "name": "stderr",
     "output_type": "stream",
     "text": [
      "\n"
     ]
    },
    {
     "name": "stdout",
     "output_type": "stream",
     "text": [
      "Searching time:  0:00:01.563143\n",
      "Expanded library\n",
      "Top1 hit rate: 39.20%\n",
      "Top10 hit rate: 80.44%\n",
      "Searching time:  0:00:01.486101\n",
      "In-silico library\n",
      "Top1 hit rate: 39.59%\n",
      "Top10 hit rate: 80.84%\n",
      "================================================================================================\n",
      "==================================Train_epoch6======================================\n"
     ]
    },
    {
     "name": "stderr",
     "output_type": "stream",
     "text": [
      " 14%|█▍        | 1007/7276 [00:21<01:45, 59.57batch/s]"
     ]
    },
    {
     "name": "stdout",
     "output_type": "stream",
     "text": [
      "Total Loss: 4437.148810302734\n"
     ]
    },
    {
     "name": "stderr",
     "output_type": "stream",
     "text": [
      " 28%|██▊       | 2009/7276 [00:38<01:34, 55.86batch/s]"
     ]
    },
    {
     "name": "stdout",
     "output_type": "stream",
     "text": [
      "Total Loss: 4437.485143798828\n"
     ]
    },
    {
     "name": "stderr",
     "output_type": "stream",
     "text": [
      " 41%|████▏     | 3008/7276 [00:56<01:16, 55.50batch/s]"
     ]
    },
    {
     "name": "stdout",
     "output_type": "stream",
     "text": [
      "Total Loss: 4437.618552490234\n"
     ]
    },
    {
     "name": "stderr",
     "output_type": "stream",
     "text": [
      " 55%|█████▌    | 4010/7276 [01:14<00:54, 59.84batch/s]"
     ]
    },
    {
     "name": "stdout",
     "output_type": "stream",
     "text": [
      "Total Loss: 4417.340853515625\n"
     ]
    },
    {
     "name": "stderr",
     "output_type": "stream",
     "text": [
      " 69%|██████▉   | 5005/7276 [01:32<00:45, 49.47batch/s]"
     ]
    },
    {
     "name": "stdout",
     "output_type": "stream",
     "text": [
      "Total Loss: 4425.0170234375\n"
     ]
    },
    {
     "name": "stderr",
     "output_type": "stream",
     "text": [
      " 83%|████████▎ | 6006/7276 [01:50<00:23, 54.94batch/s]"
     ]
    },
    {
     "name": "stdout",
     "output_type": "stream",
     "text": [
      "Total Loss: 4421.02384375\n"
     ]
    },
    {
     "name": "stderr",
     "output_type": "stream",
     "text": [
      " 96%|█████████▋| 7010/7276 [02:08<00:04, 61.32batch/s]"
     ]
    },
    {
     "name": "stdout",
     "output_type": "stream",
     "text": [
      "Total Loss: 4417.608393066406\n"
     ]
    },
    {
     "name": "stderr",
     "output_type": "stream",
     "text": [
      "100%|██████████| 7276/7276 [02:14<00:00, 54.25batch/s]"
     ]
    },
    {
     "name": "stdout",
     "output_type": "stream",
     "text": [
      "===================================Test_epoch6======================================\n"
     ]
    },
    {
     "name": "stderr",
     "output_type": "stream",
     "text": [
      "\n"
     ]
    },
    {
     "name": "stdout",
     "output_type": "stream",
     "text": [
      "Searching time:  0:00:01.555304\n",
      "Expanded library\n",
      "Top1 hit rate: 39.28%\n",
      "Top10 hit rate: 80.46%\n",
      "Searching time:  0:00:01.483855\n",
      "In-silico library\n",
      "Top1 hit rate: 39.70%\n",
      "Top10 hit rate: 80.89%\n",
      "================================================================================================\n",
      "==================================Train_epoch7======================================\n"
     ]
    },
    {
     "name": "stderr",
     "output_type": "stream",
     "text": [
      " 14%|█▍        | 1009/7276 [00:23<01:58, 53.00batch/s]"
     ]
    },
    {
     "name": "stdout",
     "output_type": "stream",
     "text": [
      "Total Loss: 4411.75688671875\n"
     ]
    },
    {
     "name": "stderr",
     "output_type": "stream",
     "text": [
      " 28%|██▊       | 2009/7276 [00:42<01:36, 54.52batch/s]"
     ]
    },
    {
     "name": "stdout",
     "output_type": "stream",
     "text": [
      "Total Loss: 4392.685526611328\n"
     ]
    },
    {
     "name": "stderr",
     "output_type": "stream",
     "text": [
      " 41%|████▏     | 3008/7276 [01:01<01:16, 55.67batch/s]"
     ]
    },
    {
     "name": "stdout",
     "output_type": "stream",
     "text": [
      "Total Loss: 4402.997694091797\n"
     ]
    },
    {
     "name": "stderr",
     "output_type": "stream",
     "text": [
      " 55%|█████▌    | 4009/7276 [01:19<01:01, 52.80batch/s]"
     ]
    },
    {
     "name": "stdout",
     "output_type": "stream",
     "text": [
      "Total Loss: 4395.572524658203\n"
     ]
    },
    {
     "name": "stderr",
     "output_type": "stream",
     "text": [
      " 69%|██████▉   | 5006/7276 [01:38<00:42, 52.98batch/s]"
     ]
    },
    {
     "name": "stdout",
     "output_type": "stream",
     "text": [
      "Total Loss: 4410.789529296875\n"
     ]
    },
    {
     "name": "stderr",
     "output_type": "stream",
     "text": [
      " 83%|████████▎ | 6009/7276 [01:56<00:23, 54.02batch/s]"
     ]
    },
    {
     "name": "stdout",
     "output_type": "stream",
     "text": [
      "Total Loss: 4390.986353759766\n"
     ]
    },
    {
     "name": "stderr",
     "output_type": "stream",
     "text": [
      " 96%|█████████▋| 7006/7276 [02:14<00:04, 55.26batch/s]"
     ]
    },
    {
     "name": "stdout",
     "output_type": "stream",
     "text": [
      "Total Loss: 4407.669670654297\n"
     ]
    },
    {
     "name": "stderr",
     "output_type": "stream",
     "text": [
      "100%|██████████| 7276/7276 [02:20<00:00, 51.64batch/s]"
     ]
    },
    {
     "name": "stdout",
     "output_type": "stream",
     "text": [
      "===================================Test_epoch7======================================\n"
     ]
    },
    {
     "name": "stderr",
     "output_type": "stream",
     "text": [
      "\n"
     ]
    },
    {
     "name": "stdout",
     "output_type": "stream",
     "text": [
      "Searching time:  0:00:01.562174\n",
      "Expanded library\n",
      "Top1 hit rate: 39.21%\n",
      "Top10 hit rate: 80.42%\n",
      "Searching time:  0:00:01.523322\n",
      "In-silico library\n",
      "Top1 hit rate: 39.58%\n",
      "Top10 hit rate: 80.82%\n",
      "================================================================================================\n",
      "==================================Train_epoch8======================================\n"
     ]
    },
    {
     "name": "stderr",
     "output_type": "stream",
     "text": [
      " 14%|█▍        | 1008/7276 [00:23<01:55, 54.29batch/s]"
     ]
    },
    {
     "name": "stdout",
     "output_type": "stream",
     "text": [
      "Total Loss: 4392.3724682617185\n"
     ]
    },
    {
     "name": "stderr",
     "output_type": "stream",
     "text": [
      " 28%|██▊       | 2009/7276 [00:42<01:40, 52.15batch/s]"
     ]
    },
    {
     "name": "stdout",
     "output_type": "stream",
     "text": [
      "Total Loss: 4366.484222412109\n"
     ]
    },
    {
     "name": "stderr",
     "output_type": "stream",
     "text": [
      " 41%|████▏     | 3007/7276 [01:01<01:23, 50.94batch/s]"
     ]
    },
    {
     "name": "stdout",
     "output_type": "stream",
     "text": [
      "Total Loss: 4352.484247802734\n"
     ]
    },
    {
     "name": "stderr",
     "output_type": "stream",
     "text": [
      " 55%|█████▌    | 4007/7276 [01:20<01:01, 52.84batch/s]"
     ]
    },
    {
     "name": "stdout",
     "output_type": "stream",
     "text": [
      "Total Loss: 4399.87381274414\n"
     ]
    },
    {
     "name": "stderr",
     "output_type": "stream",
     "text": [
      " 69%|██████▉   | 5011/7276 [01:39<00:39, 56.63batch/s]"
     ]
    },
    {
     "name": "stdout",
     "output_type": "stream",
     "text": [
      "Total Loss: 4388.1911049804685\n"
     ]
    },
    {
     "name": "stderr",
     "output_type": "stream",
     "text": [
      " 83%|████████▎ | 6007/7276 [01:57<00:23, 54.87batch/s]"
     ]
    },
    {
     "name": "stdout",
     "output_type": "stream",
     "text": [
      "Total Loss: 4375.874294921875\n"
     ]
    },
    {
     "name": "stderr",
     "output_type": "stream",
     "text": [
      " 96%|█████████▋| 7010/7276 [02:15<00:05, 51.27batch/s]"
     ]
    },
    {
     "name": "stdout",
     "output_type": "stream",
     "text": [
      "Total Loss: 4372.331446777343\n"
     ]
    },
    {
     "name": "stderr",
     "output_type": "stream",
     "text": [
      "100%|██████████| 7276/7276 [02:22<00:00, 51.15batch/s]"
     ]
    },
    {
     "name": "stdout",
     "output_type": "stream",
     "text": [
      "===================================Test_epoch8======================================\n"
     ]
    },
    {
     "name": "stderr",
     "output_type": "stream",
     "text": [
      "\n"
     ]
    },
    {
     "name": "stdout",
     "output_type": "stream",
     "text": [
      "Searching time:  0:00:01.563199\n",
      "Expanded library\n",
      "Top1 hit rate: 39.12%\n",
      "Top10 hit rate: 80.44%\n",
      "Searching time:  0:00:01.499388\n",
      "In-silico library\n",
      "Top1 hit rate: 39.46%\n",
      "Top10 hit rate: 80.87%\n",
      "================================================================================================\n",
      "==================================Train_epoch9======================================\n"
     ]
    },
    {
     "name": "stderr",
     "output_type": "stream",
     "text": [
      " 14%|█▍        | 1008/7276 [00:25<02:06, 49.58batch/s]"
     ]
    },
    {
     "name": "stdout",
     "output_type": "stream",
     "text": [
      "Total Loss: 4366.336714599609\n"
     ]
    },
    {
     "name": "stderr",
     "output_type": "stream",
     "text": [
      " 28%|██▊       | 2004/7276 [00:44<01:44, 50.43batch/s]"
     ]
    },
    {
     "name": "stdout",
     "output_type": "stream",
     "text": [
      "Total Loss: 4359.327895019531\n"
     ]
    },
    {
     "name": "stderr",
     "output_type": "stream",
     "text": [
      " 41%|████▏     | 3008/7276 [01:04<01:23, 51.21batch/s]"
     ]
    },
    {
     "name": "stdout",
     "output_type": "stream",
     "text": [
      "Total Loss: 4365.825883789063\n"
     ]
    },
    {
     "name": "stderr",
     "output_type": "stream",
     "text": [
      " 55%|█████▌    | 4009/7276 [01:22<00:59, 55.24batch/s]"
     ]
    },
    {
     "name": "stdout",
     "output_type": "stream",
     "text": [
      "Total Loss: 4332.956210693359\n"
     ]
    },
    {
     "name": "stderr",
     "output_type": "stream",
     "text": [
      " 69%|██████▉   | 5011/7276 [01:41<00:39, 57.00batch/s]"
     ]
    },
    {
     "name": "stdout",
     "output_type": "stream",
     "text": [
      "Total Loss: 4356.530598876953\n"
     ]
    },
    {
     "name": "stderr",
     "output_type": "stream",
     "text": [
      " 83%|████████▎ | 6008/7276 [02:00<00:24, 51.04batch/s]"
     ]
    },
    {
     "name": "stdout",
     "output_type": "stream",
     "text": [
      "Total Loss: 4351.1021396484375\n"
     ]
    },
    {
     "name": "stderr",
     "output_type": "stream",
     "text": [
      " 96%|█████████▋| 7008/7276 [02:18<00:05, 51.66batch/s]"
     ]
    },
    {
     "name": "stdout",
     "output_type": "stream",
     "text": [
      "Total Loss: 4351.536519042968\n"
     ]
    },
    {
     "name": "stderr",
     "output_type": "stream",
     "text": [
      "100%|██████████| 7276/7276 [02:25<00:00, 50.14batch/s]"
     ]
    },
    {
     "name": "stdout",
     "output_type": "stream",
     "text": [
      "===================================Test_epoch9======================================\n"
     ]
    },
    {
     "name": "stderr",
     "output_type": "stream",
     "text": [
      "\n"
     ]
    },
    {
     "name": "stdout",
     "output_type": "stream",
     "text": [
      "Searching time:  0:00:01.595116\n",
      "Expanded library\n",
      "Top1 hit rate: 39.23%\n",
      "Top10 hit rate: 80.37%\n",
      "Searching time:  0:00:01.515000\n",
      "In-silico library\n",
      "Top1 hit rate: 39.58%\n",
      "Top10 hit rate: 80.78%\n",
      "================================================================================================\n",
      "==================================Train_epoch10======================================\n"
     ]
    },
    {
     "name": "stderr",
     "output_type": "stream",
     "text": [
      " 14%|█▍        | 1007/7276 [00:24<01:55, 54.04batch/s]"
     ]
    },
    {
     "name": "stdout",
     "output_type": "stream",
     "text": [
      "Total Loss: 4363.449504394532\n"
     ]
    },
    {
     "name": "stderr",
     "output_type": "stream",
     "text": [
      " 28%|██▊       | 2010/7276 [00:42<01:33, 56.25batch/s]"
     ]
    },
    {
     "name": "stdout",
     "output_type": "stream",
     "text": [
      "Total Loss: 4310.151040527344\n"
     ]
    },
    {
     "name": "stderr",
     "output_type": "stream",
     "text": [
      " 41%|████▏     | 3007/7276 [01:00<01:18, 54.40batch/s]"
     ]
    },
    {
     "name": "stdout",
     "output_type": "stream",
     "text": [
      "Total Loss: 4310.850337890625\n"
     ]
    },
    {
     "name": "stderr",
     "output_type": "stream",
     "text": [
      " 55%|█████▌    | 4004/7276 [01:18<01:05, 49.98batch/s]"
     ]
    },
    {
     "name": "stdout",
     "output_type": "stream",
     "text": [
      "Total Loss: 4345.612399414063\n"
     ]
    },
    {
     "name": "stderr",
     "output_type": "stream",
     "text": [
      " 69%|██████▉   | 5008/7276 [01:38<00:43, 52.23batch/s]"
     ]
    },
    {
     "name": "stdout",
     "output_type": "stream",
     "text": [
      "Total Loss: 4342.348118164063\n"
     ]
    },
    {
     "name": "stderr",
     "output_type": "stream",
     "text": [
      " 83%|████████▎ | 6009/7276 [01:57<00:25, 49.96batch/s]"
     ]
    },
    {
     "name": "stdout",
     "output_type": "stream",
     "text": [
      "Total Loss: 4340.642474121094\n"
     ]
    },
    {
     "name": "stderr",
     "output_type": "stream",
     "text": [
      " 96%|█████████▋| 7007/7276 [02:15<00:05, 49.30batch/s]"
     ]
    },
    {
     "name": "stdout",
     "output_type": "stream",
     "text": [
      "Total Loss: 4327.240601318359\n"
     ]
    },
    {
     "name": "stderr",
     "output_type": "stream",
     "text": [
      "100%|██████████| 7276/7276 [02:22<00:00, 51.15batch/s]"
     ]
    },
    {
     "name": "stdout",
     "output_type": "stream",
     "text": [
      "===================================Test_epoch10======================================\n"
     ]
    },
    {
     "name": "stderr",
     "output_type": "stream",
     "text": [
      "\n"
     ]
    },
    {
     "name": "stdout",
     "output_type": "stream",
     "text": [
      "Searching time:  0:00:01.558705\n",
      "Expanded library\n",
      "Top1 hit rate: 39.17%\n",
      "Top10 hit rate: 80.42%\n",
      "Searching time:  0:00:01.487757\n",
      "In-silico library\n",
      "Top1 hit rate: 39.51%\n",
      "Top10 hit rate: 80.81%\n",
      "================================================================================================\n"
     ]
    }
   ],
   "source": [
    "from tqdm import tqdm\n",
    "from utils.tools import gen_embeddings, build_idx, evaluate, save_model\n",
    "\n",
    "\n",
    "\n",
    "f = open('base.txt', 'w')\n",
    "model_name = 'base'\n",
    "max_metrics = {'expand': [0, 0], 'insilico': [0, 0]}\n",
    "for epoch in range(epochs):\n",
    "    print(f'==================================Train_epoch{epoch+1}======================================')\n",
    "    model.train()\n",
    "    train_loss = []\n",
    "    for i, Data in enumerate(tqdm(loader_train, unit='batch')):\n",
    "        data = [d.to(gpu) for d in Data]\n",
    "        optimizer.zero_grad()\n",
    "        loss = model(data)\n",
    "        train_loss.append(loss.item())\n",
    "        loss.backward()\n",
    "        optimizer.step()\n",
    "        batch_progress = (i+1)/num_batches\n",
    "        lr = scheduler.lr_lambda(epoch, batch_progress)\n",
    "        for param_group in optimizer.param_groups:\n",
    "            param_group['lr'] = lr\n",
    "        if (i+1) %1000 ==0:\n",
    "            loss = np.mean(train_loss)\n",
    "            print(f'Total Loss: {loss}')\n",
    "            train_loss = []\n",
    "    \n",
    "    print(f'===================================Test_epoch{epoch+1}======================================')\n",
    "    f.write('\\nTest_epoch%d\\n' % (epoch+1))\n",
    "    embeddings_lib = gen_embeddings(model, loader_lib, gpu)\n",
    "    embeddings_test = gen_embeddings(model, loader_test, gpu)\n",
    "    I_expand, _ = build_idx(embeddings_lib, embeddings_test, gpu)\n",
    "    top1_expand, top10_expand = evaluate(mols_test, I_expand, mols_all, f, 'Expanded')\n",
    "    if top1_expand > max_metrics['expand'][0] and top10_expand > max_metrics['expand'][1]:\n",
    "        max_metrics['expand'] = [top1_expand, top10_expand]\n",
    "        save_model(model, model_name, epoch)\n",
    "    I_insilico, _ = build_idx(embeddings_lib[:2146690], embeddings_test, gpu)\n",
    "    top1_insilico, top10_insilico = evaluate(mols_test, I_insilico, mols_all, f, 'In-silico')\n",
    "    if top1_insilico > max_metrics['insilico'][0] and top10_insilico > max_metrics['insilico'][1]:\n",
    "        max_metrics['insilico'] = [top1_insilico, top10_insilico]\n",
    "        save_model(model, model_name, epoch)\n",
    "    print(f'================================================================================================')\n",
    "f.close()"
   ]
  },
  {
   "cell_type": "code",
   "execution_count": 7,
   "metadata": {},
   "outputs": [],
   "source": [
    "pt.cuda.empty_cache()"
   ]
  }
 ],
 "metadata": {
  "kernelspec": {
   "display_name": "Python 3 (ipykernel)",
   "language": "python",
   "name": "python3"
  }
 },
 "nbformat": 4,
 "nbformat_minor": 2
}
