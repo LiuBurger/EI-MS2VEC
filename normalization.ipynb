{
 "cells": [
  {
   "cell_type": "code",
   "execution_count": 1,
   "metadata": {},
   "outputs": [
    {
     "name": "stderr",
     "output_type": "stream",
     "text": [
      "[16:32:32] Conflicting single bond directions around double bond at index 5.\n",
      "[16:32:32]   BondStereo set to STEREONONE and single bond directions set to NONE.\n"
     ]
    },
    {
     "name": "stdout",
     "output_type": "stream",
     "text": [
      "255820\n"
     ]
    }
   ],
   "source": [
    "from rdkit import Chem\n",
    "from utils.normalization import norm_pre_sdf2mgf\n",
    "\n",
    "\n",
    "suppl_n = Chem.SDMolSupplier('../data/fastei/nist/f_nist_pre.sdf')\n",
    "mols_n = [mol for mol in suppl_n if mol]\n",
    "print(len(mols_n))\n",
    "mols_n = norm_pre_sdf2mgf(mols_n, '../data/fastei/nist/f_nist_pre.mgf')"
   ]
  },
  {
   "cell_type": "code",
   "execution_count": null,
   "metadata": {},
   "outputs": [],
   "source": [
    "from rdkit import Chem\n",
    "from utils.normalization import norm_pre_sdf2mgf\n",
    "\n",
    "suppl_c = Chem.SDMolSupplier('../data/fastei/nist/f_chembl_pre.sdf')\n",
    "mols_c = [mol for mol in suppl_c if mol]\n",
    "print(len(mols_c))\n",
    "mols_c = norm_pre_sdf2mgf(mols_c, '../data/fastei/nist/f_chembl_pre.mgf')"
   ]
  },
  {
   "cell_type": "code",
   "execution_count": null,
   "metadata": {},
   "outputs": [],
   "source": [
    "from rdkit import Chem\n",
    "from utils.normalization import norm_pre_sdf2mgf\n",
    "\n",
    "\n",
    "suppl_h = Chem.SDMolSupplier('../data/fastei/hmdb/f_hmdb_pre.sdf')\n",
    "mols_h = [mol for mol in suppl_h if mol]\n",
    "print(len(mols_h))\n",
    "mols_h = norm_pre_sdf2mgf(mols_h, '../data/fastei/hmdb/f_hmdb_pre.mgf')"
   ]
  }
 ],
 "metadata": {
  "kernelspec": {
   "display_name": "Python 3 (ipykernel)",
   "language": "python",
   "name": "python3"
  }
 },
 "nbformat": 4,
 "nbformat_minor": 2
}
